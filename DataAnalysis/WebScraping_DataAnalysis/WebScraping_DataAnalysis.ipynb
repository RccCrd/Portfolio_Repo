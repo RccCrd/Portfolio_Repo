{
 "cells": [
  {
   "cell_type": "code",
   "execution_count": 281,
   "metadata": {},
   "outputs": [],
   "source": [
    "import numpy as np\n",
    "import plotly\n",
    "import pandas as pd\n",
    "import config\n",
    "import os\n",
    "import plotly.express as px\n",
    "from plotly.subplots import make_subplots\n",
    "import plotly.graph_objects as go"
   ]
  },
  {
   "cell_type": "code",
   "execution_count": 282,
   "metadata": {},
   "outputs": [],
   "source": [
    "def cleanData(path):\n",
    "    df = pd.read_csv(path)\n",
    "    \n",
    "    df.assign(count = 1)\n",
    "    df['price_sqm'] = round(df['price'] / df['sqm'],0)\n",
    "    df_original=df.copy()\n",
    "\n",
    "    df['rooms']=df['rooms'].replace('na', np.nan).copy()\n",
    "    df['toilets']=df['toilets'].replace('na', np.nan).copy()\n",
    "    df = df.dropna(axis='index', how='any').copy()\n",
    "\n",
    "    df['rooms'] = df['rooms'].astype(str).apply(lambda x: pd.to_numeric(x.replace('+','')) +1 )\n",
    "    df['toilets'] = df['toilets'].astype(str).apply(lambda x: pd.to_numeric(x.replace('+','')) +1 )\n",
    "\n",
    "    df['posting_title'] = df['posting_title'].astype('string')\n",
    "    df['link'] = df['link'].astype('string')\n",
    "    df['location'] = df['location'].astype('string')\n",
    "    df['link'] = df['link'].astype('string')\n",
    "    df['city'] = df['city'].astype('string')\n",
    "    df['posting_title'] = df['posting_title'].astype('string')\n",
    "\n",
    "    df['sqm'] =  df['sqm'].astype(int)\n",
    "    df['rooms']=df['rooms'].astype(int)\n",
    "    df['toilets']=df['toilets'].astype(int)\n",
    "    label_map = {\n",
    "                'mini': lambda x: x < 50,\n",
    "                'small': lambda x: x < 75,\n",
    "                'regular': lambda x: x < 100,\n",
    "                'big': lambda x: x < 150,\n",
    "                'huge': lambda x: x >= 150\n",
    "                }\n",
    "    df['size_cluser'] = df['sqm'].apply(lambda x: next((label for label, condition in label_map.items() if condition(x)), None))\n",
    "    return df , df_original \n",
    "    "
   ]
  },
  {
   "cell_type": "code",
   "execution_count": 283,
   "metadata": {},
   "outputs": [],
   "source": [
    "def drop_outliers(df):\n",
    "    df_means = df.groupby(['location','size_cluser'])['price_sqm'].mean().reset_index()\n",
    "    print(df_means)\n",
    "    df = pd.merge(df , df_means , on=['location', 'size_cluster'] , how='left')\n",
    "    return df , df_means"
   ]
  },
  {
   "attachments": {},
   "cell_type": "markdown",
   "metadata": {},
   "source": [
    "## Clean Data"
   ]
  },
  {
   "cell_type": "code",
   "execution_count": 284,
   "metadata": {},
   "outputs": [],
   "source": [
    "df_rent , df_rent_original  = cleanData(\"/home/crd/Portfolio_Repo-1/Output/Database_Rent.csv\")\n",
    "df_sales , df_sales_original = cleanData(\"/home/crd/Portfolio_Repo-1/Output/Database_Sales.csv\")"
   ]
  },
  {
   "attachments": {},
   "cell_type": "markdown",
   "metadata": {},
   "source": [
    "## Drop Outliers"
   ]
  },
  {
   "cell_type": "code",
   "execution_count": 285,
   "metadata": {},
   "outputs": [
    {
     "ename": "KeyError",
     "evalue": "'size_cluster'",
     "output_type": "error",
     "traceback": [
      "\u001b[0;31m---------------------------------------------------------------------------\u001b[0m",
      "\u001b[0;31mKeyError\u001b[0m                                  Traceback (most recent call last)",
      "Cell \u001b[0;32mIn[285], line 1\u001b[0m\n\u001b[0;32m----> 1\u001b[0m df_rent , df_means \u001b[39m=\u001b[39m drop_outliers(df_rent)\n\u001b[1;32m      2\u001b[0m df_means\n",
      "Cell \u001b[0;32mIn[283], line 3\u001b[0m, in \u001b[0;36mdrop_outliers\u001b[0;34m(df)\u001b[0m\n\u001b[1;32m      1\u001b[0m \u001b[39mdef\u001b[39;00m \u001b[39mdrop_outliers\u001b[39m(df):\n\u001b[1;32m      2\u001b[0m     df_means \u001b[39m=\u001b[39m df\u001b[39m.\u001b[39mgroupby([\u001b[39m'\u001b[39m\u001b[39mlocation\u001b[39m\u001b[39m'\u001b[39m,\u001b[39m'\u001b[39m\u001b[39msize_cluser\u001b[39m\u001b[39m'\u001b[39m])[\u001b[39m'\u001b[39m\u001b[39mprice_sqm\u001b[39m\u001b[39m'\u001b[39m]\u001b[39m.\u001b[39mmean()\u001b[39m.\u001b[39mreset_index()\n\u001b[0;32m----> 3\u001b[0m     df \u001b[39m=\u001b[39m pd\u001b[39m.\u001b[39;49mmerge(df , df_means , on\u001b[39m=\u001b[39;49m[\u001b[39m'\u001b[39;49m\u001b[39mlocation\u001b[39;49m\u001b[39m'\u001b[39;49m, \u001b[39m'\u001b[39;49m\u001b[39msize_cluster\u001b[39;49m\u001b[39m'\u001b[39;49m] , how\u001b[39m=\u001b[39;49m\u001b[39m'\u001b[39;49m\u001b[39mleft\u001b[39;49m\u001b[39m'\u001b[39;49m)\n\u001b[1;32m      4\u001b[0m     \u001b[39mreturn\u001b[39;00m df , df_means\n",
      "File \u001b[0;32m~/anaconda3/envs/ptf/lib/python3.11/site-packages/pandas/core/reshape/merge.py:142\u001b[0m, in \u001b[0;36mmerge\u001b[0;34m(left, right, how, on, left_on, right_on, left_index, right_index, sort, suffixes, copy, indicator, validate)\u001b[0m\n\u001b[1;32m    125\u001b[0m \u001b[39m@Substitution\u001b[39m(\u001b[39m\"\u001b[39m\u001b[39m\\n\u001b[39;00m\u001b[39mleft : DataFrame or named Series\u001b[39m\u001b[39m\"\u001b[39m)\n\u001b[1;32m    126\u001b[0m \u001b[39m@Appender\u001b[39m(_merge_doc, indents\u001b[39m=\u001b[39m\u001b[39m0\u001b[39m)\n\u001b[1;32m    127\u001b[0m \u001b[39mdef\u001b[39;00m \u001b[39mmerge\u001b[39m(\n\u001b[0;32m   (...)\u001b[0m\n\u001b[1;32m    140\u001b[0m     validate: \u001b[39mstr\u001b[39m \u001b[39m|\u001b[39m \u001b[39mNone\u001b[39;00m \u001b[39m=\u001b[39m \u001b[39mNone\u001b[39;00m,\n\u001b[1;32m    141\u001b[0m ) \u001b[39m-\u001b[39m\u001b[39m>\u001b[39m DataFrame:\n\u001b[0;32m--> 142\u001b[0m     op \u001b[39m=\u001b[39m _MergeOperation(\n\u001b[1;32m    143\u001b[0m         left,\n\u001b[1;32m    144\u001b[0m         right,\n\u001b[1;32m    145\u001b[0m         how\u001b[39m=\u001b[39;49mhow,\n\u001b[1;32m    146\u001b[0m         on\u001b[39m=\u001b[39;49mon,\n\u001b[1;32m    147\u001b[0m         left_on\u001b[39m=\u001b[39;49mleft_on,\n\u001b[1;32m    148\u001b[0m         right_on\u001b[39m=\u001b[39;49mright_on,\n\u001b[1;32m    149\u001b[0m         left_index\u001b[39m=\u001b[39;49mleft_index,\n\u001b[1;32m    150\u001b[0m         right_index\u001b[39m=\u001b[39;49mright_index,\n\u001b[1;32m    151\u001b[0m         sort\u001b[39m=\u001b[39;49msort,\n\u001b[1;32m    152\u001b[0m         suffixes\u001b[39m=\u001b[39;49msuffixes,\n\u001b[1;32m    153\u001b[0m         indicator\u001b[39m=\u001b[39;49mindicator,\n\u001b[1;32m    154\u001b[0m         validate\u001b[39m=\u001b[39;49mvalidate,\n\u001b[1;32m    155\u001b[0m     )\n\u001b[1;32m    156\u001b[0m     \u001b[39mreturn\u001b[39;00m op\u001b[39m.\u001b[39mget_result(copy\u001b[39m=\u001b[39mcopy)\n",
      "File \u001b[0;32m~/anaconda3/envs/ptf/lib/python3.11/site-packages/pandas/core/reshape/merge.py:731\u001b[0m, in \u001b[0;36m_MergeOperation.__init__\u001b[0;34m(self, left, right, how, on, left_on, right_on, axis, left_index, right_index, sort, suffixes, indicator, validate)\u001b[0m\n\u001b[1;32m    724\u001b[0m \u001b[39mself\u001b[39m\u001b[39m.\u001b[39m_cross \u001b[39m=\u001b[39m cross_col\n\u001b[1;32m    726\u001b[0m \u001b[39m# note this function has side effects\u001b[39;00m\n\u001b[1;32m    727\u001b[0m (\n\u001b[1;32m    728\u001b[0m     \u001b[39mself\u001b[39m\u001b[39m.\u001b[39mleft_join_keys,\n\u001b[1;32m    729\u001b[0m     \u001b[39mself\u001b[39m\u001b[39m.\u001b[39mright_join_keys,\n\u001b[1;32m    730\u001b[0m     \u001b[39mself\u001b[39m\u001b[39m.\u001b[39mjoin_names,\n\u001b[0;32m--> 731\u001b[0m ) \u001b[39m=\u001b[39m \u001b[39mself\u001b[39;49m\u001b[39m.\u001b[39;49m_get_merge_keys()\n\u001b[1;32m    733\u001b[0m \u001b[39m# validate the merge keys dtypes. We may need to coerce\u001b[39;00m\n\u001b[1;32m    734\u001b[0m \u001b[39m# to avoid incompatible dtypes\u001b[39;00m\n\u001b[1;32m    735\u001b[0m \u001b[39mself\u001b[39m\u001b[39m.\u001b[39m_maybe_coerce_merge_keys()\n",
      "File \u001b[0;32m~/anaconda3/envs/ptf/lib/python3.11/site-packages/pandas/core/reshape/merge.py:1189\u001b[0m, in \u001b[0;36m_MergeOperation._get_merge_keys\u001b[0;34m(self)\u001b[0m\n\u001b[1;32m   1187\u001b[0m rk \u001b[39m=\u001b[39m cast(Hashable, rk)\n\u001b[1;32m   1188\u001b[0m \u001b[39mif\u001b[39;00m rk \u001b[39mis\u001b[39;00m \u001b[39mnot\u001b[39;00m \u001b[39mNone\u001b[39;00m:\n\u001b[0;32m-> 1189\u001b[0m     right_keys\u001b[39m.\u001b[39mappend(right\u001b[39m.\u001b[39;49m_get_label_or_level_values(rk))\n\u001b[1;32m   1190\u001b[0m \u001b[39melse\u001b[39;00m:\n\u001b[1;32m   1191\u001b[0m     \u001b[39m# work-around for merge_asof(right_index=True)\u001b[39;00m\n\u001b[1;32m   1192\u001b[0m     right_keys\u001b[39m.\u001b[39mappend(right\u001b[39m.\u001b[39mindex)\n",
      "File \u001b[0;32m~/anaconda3/envs/ptf/lib/python3.11/site-packages/pandas/core/generic.py:1778\u001b[0m, in \u001b[0;36mNDFrame._get_label_or_level_values\u001b[0;34m(self, key, axis)\u001b[0m\n\u001b[1;32m   1776\u001b[0m     values \u001b[39m=\u001b[39m \u001b[39mself\u001b[39m\u001b[39m.\u001b[39maxes[axis]\u001b[39m.\u001b[39mget_level_values(key)\u001b[39m.\u001b[39m_values\n\u001b[1;32m   1777\u001b[0m \u001b[39melse\u001b[39;00m:\n\u001b[0;32m-> 1778\u001b[0m     \u001b[39mraise\u001b[39;00m \u001b[39mKeyError\u001b[39;00m(key)\n\u001b[1;32m   1780\u001b[0m \u001b[39m# Check for duplicates\u001b[39;00m\n\u001b[1;32m   1781\u001b[0m \u001b[39mif\u001b[39;00m values\u001b[39m.\u001b[39mndim \u001b[39m>\u001b[39m \u001b[39m1\u001b[39m:\n",
      "\u001b[0;31mKeyError\u001b[0m: 'size_cluster'"
     ]
    }
   ],
   "source": [
    "df_rent , df_means = drop_outliers(df_rent)\n",
    "df_means"
   ]
  },
  {
   "cell_type": "code",
   "execution_count": null,
   "metadata": {},
   "outputs": [],
   "source": [
    "df['price_sqm_range'] = pd.qcut(df['price_sqm'], 4 , labels=['lowest', 'low', 'medium','high'])\n",
    "df_sqmprice_location = df.drop(['posting_title', 'price', 'rooms', 'sqm', 'toilets', 'link', 'city','price_sqm_range'] , axis=1)\n",
    "\n",
    "df_sqmprice_location=df_sqmprice_location.groupby(by='location').agg({'price_sqm': ['mean', 'min', 'max', 'count']}).astype(int)\n"
   ]
  },
  {
   "cell_type": "code",
   "execution_count": null,
   "metadata": {},
   "outputs": [
    {
     "data": {
      "text/html": [
       "<div>\n",
       "<style scoped>\n",
       "    .dataframe tbody tr th:only-of-type {\n",
       "        vertical-align: middle;\n",
       "    }\n",
       "\n",
       "    .dataframe tbody tr th {\n",
       "        vertical-align: top;\n",
       "    }\n",
       "\n",
       "    .dataframe thead tr th {\n",
       "        text-align: left;\n",
       "    }\n",
       "\n",
       "    .dataframe thead tr:last-of-type th {\n",
       "        text-align: right;\n",
       "    }\n",
       "</style>\n",
       "<table border=\"1\" class=\"dataframe\">\n",
       "  <thead>\n",
       "    <tr>\n",
       "      <th></th>\n",
       "      <th colspan=\"4\" halign=\"left\">price_sqm</th>\n",
       "    </tr>\n",
       "    <tr>\n",
       "      <th></th>\n",
       "      <th>mean</th>\n",
       "      <th>min</th>\n",
       "      <th>max</th>\n",
       "      <th>count</th>\n",
       "    </tr>\n",
       "    <tr>\n",
       "      <th>location</th>\n",
       "      <th></th>\n",
       "      <th></th>\n",
       "      <th></th>\n",
       "      <th></th>\n",
       "    </tr>\n",
       "  </thead>\n",
       "  <tbody>\n",
       "    <tr>\n",
       "      <th>Centro Storico</th>\n",
       "      <td>27</td>\n",
       "      <td>5</td>\n",
       "      <td>58</td>\n",
       "      <td>292</td>\n",
       "    </tr>\n",
       "    <tr>\n",
       "      <th>Testaccio, Trastevere</th>\n",
       "      <td>26</td>\n",
       "      <td>16</td>\n",
       "      <td>58</td>\n",
       "      <td>67</td>\n",
       "    </tr>\n",
       "    <tr>\n",
       "      <th>Aventino, San Saba, Caracalla</th>\n",
       "      <td>23</td>\n",
       "      <td>14</td>\n",
       "      <td>47</td>\n",
       "      <td>37</td>\n",
       "    </tr>\n",
       "    <tr>\n",
       "      <th>Prati, Borgo, Mazzini, Delle Vittorie</th>\n",
       "      <td>22</td>\n",
       "      <td>6</td>\n",
       "      <td>60</td>\n",
       "      <td>111</td>\n",
       "    </tr>\n",
       "    <tr>\n",
       "      <th>Termini, Repubblica</th>\n",
       "      <td>21</td>\n",
       "      <td>12</td>\n",
       "      <td>56</td>\n",
       "      <td>35</td>\n",
       "    </tr>\n",
       "  </tbody>\n",
       "</table>\n",
       "</div>"
      ],
      "text/plain": [
       "                                      price_sqm              \n",
       "                                           mean min max count\n",
       "location                                                     \n",
       "Centro Storico                               27   5  58   292\n",
       "Testaccio, Trastevere                        26  16  58    67\n",
       "Aventino, San Saba, Caracalla                23  14  47    37\n",
       "Prati, Borgo, Mazzini, Delle Vittorie        22   6  60   111\n",
       "Termini, Repubblica                          21  12  56    35"
      ]
     },
     "execution_count": 265,
     "metadata": {},
     "output_type": "execute_result"
    }
   ],
   "source": [
    "df_sqmprice_location=df_sqmprice_location.sort_values(by=('price_sqm', 'mean'),ascending=False)\n",
    "df_sqmprice_location[:5]"
   ]
  },
  {
   "cell_type": "code",
   "execution_count": null,
   "metadata": {},
   "outputs": [],
   "source": []
  }
 ],
 "metadata": {
  "kernelspec": {
   "display_name": "portfolio_env",
   "language": "python",
   "name": "python3"
  },
  "language_info": {
   "codemirror_mode": {
    "name": "ipython",
    "version": 3
   },
   "file_extension": ".py",
   "mimetype": "text/x-python",
   "name": "python",
   "nbconvert_exporter": "python",
   "pygments_lexer": "ipython3",
   "version": "3.11.3"
  },
  "orig_nbformat": 4
 },
 "nbformat": 4,
 "nbformat_minor": 2
}
